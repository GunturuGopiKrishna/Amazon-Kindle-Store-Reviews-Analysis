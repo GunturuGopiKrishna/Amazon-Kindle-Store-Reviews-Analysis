{
 "cells": [
  {
   "cell_type": "markdown",
   "metadata": {},
   "source": [
    "# Amazon kindle store Reviews"
   ]
  },
  {
   "cell_type": "code",
   "execution_count": 1,
   "metadata": {},
   "outputs": [
    {
     "data": {
      "text/plain": [
       "'C:\\\\Users\\\\gopia\\\\Desktop\\\\internship project\\\\codes'"
      ]
     },
     "execution_count": 1,
     "metadata": {},
     "output_type": "execute_result"
    }
   ],
   "source": [
    "import os\n",
    "os.getcwd()"
   ]
  },
  {
   "cell_type": "code",
   "execution_count": 2,
   "metadata": {},
   "outputs": [],
   "source": [
    "os.chdir(r\"C:\\Users\\gopia\\Desktop\\internship project\\Data set\")"
   ]
  },
  {
   "cell_type": "code",
   "execution_count": 3,
   "metadata": {},
   "outputs": [
    {
     "data": {
      "text/plain": [
       "'C:\\\\Users\\\\gopia\\\\Desktop\\\\internship project\\\\Data set'"
      ]
     },
     "execution_count": 3,
     "metadata": {},
     "output_type": "execute_result"
    }
   ],
   "source": [
    "os.getcwd()"
   ]
  },
  {
   "cell_type": "markdown",
   "metadata": {},
   "source": [
    "# Importing the libraries"
   ]
  },
  {
   "cell_type": "code",
   "execution_count": 4,
   "metadata": {
    "scrolled": true
   },
   "outputs": [],
   "source": [
    "import numpy as np #import numerical data\n",
    "import pandas as pd #contains manipulate function\n",
    "import matplotlib.pyplot as plt #matplotlib. pyplot is a collection of command style functions that make matplotlib work like MATLAB. Each pyplot function makes some change to a figure: e.g., creates a figure, creates a plotting area in a figure, plots some lines in a plotting area, decorates the plot with labels, etc.\n",
    "\n"
   ]
  },
  {
   "cell_type": "markdown",
   "metadata": {},
   "source": [
    "# Importing the dataset "
   ]
  },
  {
   "cell_type": "code",
   "execution_count": 5,
   "metadata": {},
   "outputs": [
    {
     "data": {
      "text/html": [
       "<div>\n",
       "<style scoped>\n",
       "    .dataframe tbody tr th:only-of-type {\n",
       "        vertical-align: middle;\n",
       "    }\n",
       "\n",
       "    .dataframe tbody tr th {\n",
       "        vertical-align: top;\n",
       "    }\n",
       "\n",
       "    .dataframe thead th {\n",
       "        text-align: right;\n",
       "    }\n",
       "</style>\n",
       "<table border=\"1\" class=\"dataframe\">\n",
       "  <thead>\n",
       "    <tr style=\"text-align: right;\">\n",
       "      <th></th>\n",
       "      <th>Unnamed: 0</th>\n",
       "      <th>asin</th>\n",
       "      <th>helpful</th>\n",
       "      <th>overall</th>\n",
       "      <th>reviewText</th>\n",
       "      <th>reviewTime</th>\n",
       "      <th>reviewerID</th>\n",
       "      <th>reviewerName</th>\n",
       "      <th>summary</th>\n",
       "      <th>unixReviewTime</th>\n",
       "    </tr>\n",
       "  </thead>\n",
       "  <tbody>\n",
       "    <tr>\n",
       "      <th>0</th>\n",
       "      <td>0</td>\n",
       "      <td>B000F83SZQ</td>\n",
       "      <td>[0, 0]</td>\n",
       "      <td>5</td>\n",
       "      <td>I enjoy vintage books and movies so I enjoyed ...</td>\n",
       "      <td>05 5, 2014</td>\n",
       "      <td>A1F6404F1VG29J</td>\n",
       "      <td>Avidreader</td>\n",
       "      <td>Nice vintage story</td>\n",
       "      <td>1399248000</td>\n",
       "    </tr>\n",
       "    <tr>\n",
       "      <th>1</th>\n",
       "      <td>1</td>\n",
       "      <td>B000F83SZQ</td>\n",
       "      <td>[2, 2]</td>\n",
       "      <td>4</td>\n",
       "      <td>This book is a reissue of an old one; the auth...</td>\n",
       "      <td>01 6, 2014</td>\n",
       "      <td>AN0N05A9LIJEQ</td>\n",
       "      <td>critters</td>\n",
       "      <td>Different...</td>\n",
       "      <td>1388966400</td>\n",
       "    </tr>\n",
       "    <tr>\n",
       "      <th>2</th>\n",
       "      <td>2</td>\n",
       "      <td>B000F83SZQ</td>\n",
       "      <td>[2, 2]</td>\n",
       "      <td>4</td>\n",
       "      <td>This was a fairly interesting read.  It had ol...</td>\n",
       "      <td>04 4, 2014</td>\n",
       "      <td>A795DMNCJILA6</td>\n",
       "      <td>dot</td>\n",
       "      <td>Oldie</td>\n",
       "      <td>1396569600</td>\n",
       "    </tr>\n",
       "    <tr>\n",
       "      <th>3</th>\n",
       "      <td>3</td>\n",
       "      <td>B000F83SZQ</td>\n",
       "      <td>[1, 1]</td>\n",
       "      <td>5</td>\n",
       "      <td>I'd never read any of the Amy Brewster mysteri...</td>\n",
       "      <td>02 19, 2014</td>\n",
       "      <td>A1FV0SX13TWVXQ</td>\n",
       "      <td>Elaine H. Turley \"Montana Songbird\"</td>\n",
       "      <td>I really liked it.</td>\n",
       "      <td>1392768000</td>\n",
       "    </tr>\n",
       "    <tr>\n",
       "      <th>4</th>\n",
       "      <td>4</td>\n",
       "      <td>B000F83SZQ</td>\n",
       "      <td>[0, 1]</td>\n",
       "      <td>4</td>\n",
       "      <td>If you like period pieces - clothing, lingo, y...</td>\n",
       "      <td>03 19, 2014</td>\n",
       "      <td>A3SPTOKDG7WBLN</td>\n",
       "      <td>Father Dowling Fan</td>\n",
       "      <td>Period Mystery</td>\n",
       "      <td>1395187200</td>\n",
       "    </tr>\n",
       "    <tr>\n",
       "      <th>...</th>\n",
       "      <td>...</td>\n",
       "      <td>...</td>\n",
       "      <td>...</td>\n",
       "      <td>...</td>\n",
       "      <td>...</td>\n",
       "      <td>...</td>\n",
       "      <td>...</td>\n",
       "      <td>...</td>\n",
       "      <td>...</td>\n",
       "      <td>...</td>\n",
       "    </tr>\n",
       "    <tr>\n",
       "      <th>15157</th>\n",
       "      <td>15157</td>\n",
       "      <td>B003CT31VQ</td>\n",
       "      <td>[1, 1]</td>\n",
       "      <td>5</td>\n",
       "      <td>thrilling story with a great lineup of charact...</td>\n",
       "      <td>05 29, 2013</td>\n",
       "      <td>A1393Z698SVLTP</td>\n",
       "      <td>Roy Henson</td>\n",
       "      <td>could not put my kindle down!</td>\n",
       "      <td>1369785600</td>\n",
       "    </tr>\n",
       "    <tr>\n",
       "      <th>15158</th>\n",
       "      <td>15158</td>\n",
       "      <td>B003CT31VQ</td>\n",
       "      <td>[1, 1]</td>\n",
       "      <td>5</td>\n",
       "      <td>Daveny loves landscaping and is excited to be ...</td>\n",
       "      <td>05 17, 2010</td>\n",
       "      <td>A2YXNKWOGHP6AW</td>\n",
       "      <td>Sandy</td>\n",
       "      <td>Forgiveness comes to Collin...</td>\n",
       "      <td>1274054400</td>\n",
       "    </tr>\n",
       "    <tr>\n",
       "      <th>15159</th>\n",
       "      <td>15159</td>\n",
       "      <td>B003CT31VQ</td>\n",
       "      <td>[0, 0]</td>\n",
       "      <td>4</td>\n",
       "      <td>A wonderfully, sweet Christian romance that in...</td>\n",
       "      <td>12 15, 2013</td>\n",
       "      <td>A8UGU796JGMJU</td>\n",
       "      <td>Shannon Sonneveldt</td>\n",
       "      <td>Sweet Christian Romance</td>\n",
       "      <td>1387065600</td>\n",
       "    </tr>\n",
       "    <tr>\n",
       "      <th>15160</th>\n",
       "      <td>15160</td>\n",
       "      <td>B003CT31VQ</td>\n",
       "      <td>[1, 1]</td>\n",
       "      <td>4</td>\n",
       "      <td>Colin's traumatic experience and soul struggle...</td>\n",
       "      <td>04 11, 2014</td>\n",
       "      <td>A1GQEH3S58URDX</td>\n",
       "      <td>Sunshine</td>\n",
       "      <td>Heart Warming</td>\n",
       "      <td>1397174400</td>\n",
       "    </tr>\n",
       "    <tr>\n",
       "      <th>15161</th>\n",
       "      <td>15161</td>\n",
       "      <td>B003CT31VQ</td>\n",
       "      <td>[1, 1]</td>\n",
       "      <td>5</td>\n",
       "      <td>First - this is a novella, but one delightfull...</td>\n",
       "      <td>04 25, 2013</td>\n",
       "      <td>A3CG4N3WC8J6D4</td>\n",
       "      <td>Susan M. Baganz \"Silygoos\"</td>\n",
       "      <td>Delightful, heartfelt novella</td>\n",
       "      <td>1366848000</td>\n",
       "    </tr>\n",
       "  </tbody>\n",
       "</table>\n",
       "<p>15162 rows × 10 columns</p>\n",
       "</div>"
      ],
      "text/plain": [
       "       Unnamed: 0        asin helpful  overall  \\\n",
       "0               0  B000F83SZQ  [0, 0]        5   \n",
       "1               1  B000F83SZQ  [2, 2]        4   \n",
       "2               2  B000F83SZQ  [2, 2]        4   \n",
       "3               3  B000F83SZQ  [1, 1]        5   \n",
       "4               4  B000F83SZQ  [0, 1]        4   \n",
       "...           ...         ...     ...      ...   \n",
       "15157       15157  B003CT31VQ  [1, 1]        5   \n",
       "15158       15158  B003CT31VQ  [1, 1]        5   \n",
       "15159       15159  B003CT31VQ  [0, 0]        4   \n",
       "15160       15160  B003CT31VQ  [1, 1]        4   \n",
       "15161       15161  B003CT31VQ  [1, 1]        5   \n",
       "\n",
       "                                              reviewText   reviewTime  \\\n",
       "0      I enjoy vintage books and movies so I enjoyed ...   05 5, 2014   \n",
       "1      This book is a reissue of an old one; the auth...   01 6, 2014   \n",
       "2      This was a fairly interesting read.  It had ol...   04 4, 2014   \n",
       "3      I'd never read any of the Amy Brewster mysteri...  02 19, 2014   \n",
       "4      If you like period pieces - clothing, lingo, y...  03 19, 2014   \n",
       "...                                                  ...          ...   \n",
       "15157  thrilling story with a great lineup of charact...  05 29, 2013   \n",
       "15158  Daveny loves landscaping and is excited to be ...  05 17, 2010   \n",
       "15159  A wonderfully, sweet Christian romance that in...  12 15, 2013   \n",
       "15160  Colin's traumatic experience and soul struggle...  04 11, 2014   \n",
       "15161  First - this is a novella, but one delightfull...  04 25, 2013   \n",
       "\n",
       "           reviewerID                         reviewerName  \\\n",
       "0      A1F6404F1VG29J                           Avidreader   \n",
       "1       AN0N05A9LIJEQ                             critters   \n",
       "2       A795DMNCJILA6                                  dot   \n",
       "3      A1FV0SX13TWVXQ  Elaine H. Turley \"Montana Songbird\"   \n",
       "4      A3SPTOKDG7WBLN                   Father Dowling Fan   \n",
       "...               ...                                  ...   \n",
       "15157  A1393Z698SVLTP                           Roy Henson   \n",
       "15158  A2YXNKWOGHP6AW                                Sandy   \n",
       "15159   A8UGU796JGMJU                   Shannon Sonneveldt   \n",
       "15160  A1GQEH3S58URDX                             Sunshine   \n",
       "15161  A3CG4N3WC8J6D4           Susan M. Baganz \"Silygoos\"   \n",
       "\n",
       "                              summary  unixReviewTime  \n",
       "0                  Nice vintage story      1399248000  \n",
       "1                        Different...      1388966400  \n",
       "2                               Oldie      1396569600  \n",
       "3                  I really liked it.      1392768000  \n",
       "4                      Period Mystery      1395187200  \n",
       "...                               ...             ...  \n",
       "15157   could not put my kindle down!      1369785600  \n",
       "15158  Forgiveness comes to Collin...      1274054400  \n",
       "15159         Sweet Christian Romance      1387065600  \n",
       "15160                   Heart Warming      1397174400  \n",
       "15161   Delightful, heartfelt novella      1366848000  \n",
       "\n",
       "[15162 rows x 10 columns]"
      ]
     },
     "execution_count": 5,
     "metadata": {},
     "output_type": "execute_result"
    }
   ],
   "source": [
    "data1=pd.read_csv(\"kindle_reviews1.csv\") #the data in the csv file is stored in data1\n",
    "data1"
   ]
  },
  {
   "cell_type": "markdown",
   "metadata": {},
   "source": [
    "# Text Cleaning or Pre-processing "
   ]
  },
  {
   "cell_type": "code",
   "execution_count": 6,
   "metadata": {},
   "outputs": [],
   "source": [
    "# Import libraries\n",
    "import re  #“Re” is the library which is used to replace the selected special characters with desired parameter.\n",
    "import nltk #“NLTK” – Natural language Tool Kit is the library used for stemming using a special class in the library. "
   ]
  },
  {
   "cell_type": "markdown",
   "metadata": {},
   "source": [
    "# import library for remove Stopwords"
   ]
  },
  {
   "cell_type": "code",
   "execution_count": 7,
   "metadata": {},
   "outputs": [
    {
     "name": "stderr",
     "output_type": "stream",
     "text": [
      "[nltk_data] Downloading package stopwords to\n",
      "[nltk_data]     C:\\Users\\gopia\\AppData\\Roaming\\nltk_data...\n",
      "[nltk_data]   Package stopwords is already up-to-date!\n"
     ]
    },
    {
     "data": {
      "text/plain": [
       "True"
      ]
     },
     "execution_count": 7,
     "metadata": {},
     "output_type": "execute_result"
    }
   ],
   "source": [
    "nltk.download('stopwords')"
   ]
  },
  {
   "cell_type": "code",
   "execution_count": 8,
   "metadata": {},
   "outputs": [],
   "source": [
    "from nltk.corpus import stopwords"
   ]
  },
  {
   "cell_type": "markdown",
   "metadata": {},
   "source": [
    "# import library for stemming"
   ]
  },
  {
   "cell_type": "code",
   "execution_count": 9,
   "metadata": {},
   "outputs": [],
   "source": [
    "from nltk.stem.porter import PorterStemmer\n",
    "ps=PorterStemmer()\n",
    "data=[]"
   ]
  },
  {
   "cell_type": "markdown",
   "metadata": {},
   "source": [
    "# Remove Punctuation,Numbers\n",
    "# Convert each word into its lower case\n",
    "# Stemming"
   ]
  },
  {
   "cell_type": "raw",
   "metadata": {},
   "source": [
    "Stemming is the process of producing morphological variants of a root/base word. Stemming programs are commonly referred to as stemming algorithms or stemmers. To stem each word first we have to split the review in to a list and then apply stemming functionality. we use port stemmer class for stemming purpose. We are also removing stop words like “this”, “that”, “and”, “is”, “what” etc. The syntax checks all the words in the list which is split, if the word is not a stop word then you are applying stemming to stem the selected word” "
   ]
  },
  {
   "cell_type": "code",
   "execution_count": 17,
   "metadata": {},
   "outputs": [],
   "source": [
    "for i in range(0,15161):\n",
    "    review = data1[\"reviewText\"][i]\n",
    "    review = re.sub('[^a-zA-Z]', ' ', review)\n",
    "    review = review.lower()\n",
    "    review = review.split()\n",
    "    review = [ps.stem(word) for word in review if not word in set(stopwords.words('english'))]\n",
    "    review = ' '.join(review)\n",
    "    data.append(review)"
   ]
  },
  {
   "cell_type": "code",
   "execution_count": 18,
   "metadata": {},
   "outputs": [
    {
     "data": {
      "text/plain": [
       "['enjoy vintag book movi enjoy read book plot unusu think kill someon self defens leav scene bodi without notifi polic hit someon jaw knock would wash today still good read',\n",
       " 'book reissu old one author born era say nero wolf introduct quit interest explain author forgotten never heard languag littl date time like call gun heater also made good use fire dictionari look word like deshabil canarsi still well worth look see',\n",
       " 'fairli interest read old style terminolog glad get read stori coars crasslanguag read fun relax like free ebooksbecaus check writer decid intrigu innov enough command englishthat convey stori without crude languag',\n",
       " 'never read ami brewster mysteri one realli hook',\n",
       " 'like period piec cloth lingo enjoy mysteri author guess least way',\n",
       " 'beauti depth charact descript make like fast pace movi piti mr merwin write instead ami brewster mysteri',\n",
       " 'enjoy one tho sure call ami brewster mysteri much clean well written charact well drawn',\n",
       " 'never heard ami brewster need like ami brewster like book actual ami brewster side kick stori ad mysteri stori one resolv stori bring back old time simpl life simpl peopl straight relationship',\n",
       " 'darth maul work cloak dark commit sabotag stori worth read mani time great stori',\n",
       " 'short stori focus darth maul role help trade feder gain mine coloni bad also noth except fairli short realli get see charact develop event happen seem go quickli includ major battl stori includ novelshadow hunter star war darth maul worth read bother buy one separ']"
      ]
     },
     "execution_count": 18,
     "metadata": {},
     "output_type": "execute_result"
    }
   ],
   "source": [
    "data[:10]"
   ]
  },
  {
   "cell_type": "markdown",
   "metadata": {},
   "source": [
    "#  Bag of Words \n"
   ]
  },
  {
   "cell_type": "code",
   "execution_count": null,
   "metadata": {},
   "outputs": [],
   "source": []
  }
 ],
 "metadata": {
  "kernelspec": {
   "display_name": "Python 3",
   "language": "python",
   "name": "python3"
  },
  "language_info": {
   "codemirror_mode": {
    "name": "ipython",
    "version": 3
   },
   "file_extension": ".py",
   "mimetype": "text/x-python",
   "name": "python",
   "nbconvert_exporter": "python",
   "pygments_lexer": "ipython3",
   "version": "3.7.6"
  }
 },
 "nbformat": 4,
 "nbformat_minor": 2
}
